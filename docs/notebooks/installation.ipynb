{
 "cells": [
  {
   "cell_type": "markdown",
   "id": "b604919c",
   "metadata": {},
   "source": [
    "# Installation\n",
    "\n",
    "To install `spfa` first create `Python 3.8` environment e.g. by\n",
    "\n",
    "```\n",
    "conda create --name spfa-env python=3.8\n",
    "conda activate spfa-env\n",
    "```\n",
    "\n",
    "and install the package using \n",
    "\n",
    "```\n",
    "pip install spfa\n",
    "```\n"
   ]
  }
 ],
 "metadata": {
  "kernelspec": {
   "display_name": "spyder-env",
   "language": "python",
   "name": "python3"
  },
  "language_info": {
   "codemirror_mode": {
    "name": "ipython",
    "version": 3
   },
   "file_extension": ".py",
   "mimetype": "text/x-python",
   "name": "python",
   "nbconvert_exporter": "python",
   "pygments_lexer": "ipython3",
   "version": "3.10.5"
  }
 },
 "nbformat": 4,
 "nbformat_minor": 5
}
