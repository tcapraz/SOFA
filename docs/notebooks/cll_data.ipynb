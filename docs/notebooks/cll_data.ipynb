{
 "cells": [
  {
   "cell_type": "markdown",
   "id": "cf7a9cfd-a715-49e3-9a9d-4b2c67ffd942",
   "metadata": {
    "tags": []
   },
   "source": [
    "# Analysis of multi-omics data of chronic lymphocytic leukemia patients"
   ]
  },
  {
   "cell_type": "code",
   "execution_count": 1,
   "id": "19659d30-b10d-4057-a304-25382ffdd300",
   "metadata": {
    "tags": []
   },
   "outputs": [],
   "source": [
    "%load_ext autoreload\n",
    "%autoreload 2"
   ]
  },
  {
   "cell_type": "markdown",
   "id": "0923788f",
   "metadata": {},
   "source": [
    "This notebook shows a reanalyis using spfa of multi-omics data of chronic lymphocytic leukemia patients. The data and original analysis was published in:    \n",
    "Lu, J., Cannizzaro, E., Meier-Abt, F., Scheinost, S., Bruch, P.M., Giles, H.A., Lütge, A., Hüllein, J., Wagner, L., Giacopelli, B. and Nadeu, F., 2021. Multi-omics reveals clinically relevant proliferative drive associated with mTOR-MYC-OXPHOS activity in chronic lymphocytic leukemia. Nature cancer, 2(8), pp.853-864."
   ]
  },
  {
   "cell_type": "code",
   "execution_count": 2,
   "id": "61a396f8",
   "metadata": {},
   "outputs": [
    {
     "name": "stderr",
     "output_type": "stream",
     "text": [
      "/home/tuemay/anaconda3/envs/spyder-env/lib/python3.10/site-packages/tqdm/auto.py:22: TqdmWarning: IProgress not found. Please update jupyter and ipywidgets. See https://ipywidgets.readthedocs.io/en/stable/user_install.html\n",
      "  from .autonotebook import tqdm as notebook_tqdm\n",
      "2023-10-10 11:13:34.465141: I tensorflow/core/util/util.cc:169] oneDNN custom operations are on. You may see slightly different numerical results due to floating-point round-off errors from different computation orders. To turn them off, set the environment variable `TF_ENABLE_ONEDNN_OPTS=0`.\n",
      "2023-10-10 11:13:34.717448: W tensorflow/stream_executor/platform/default/dso_loader.cc:64] Could not load dynamic library 'libcudart.so.11.0'; dlerror: libcudart.so.11.0: cannot open shared object file: No such file or directory\n",
      "2023-10-10 11:13:34.717495: I tensorflow/stream_executor/cuda/cudart_stub.cc:29] Ignore above cudart dlerror if you do not have a GPU set up on your machine.\n"
     ]
    }
   ],
   "source": [
    "\n",
    "import spfa\n",
    "\n",
    "import torch\n",
    "import pandas as pd\n",
    "import numpy as np\n",
    "import scipy.stats as stats\n",
    "import matplotlib.pyplot as plt\n",
    "from sklearn.decomposition import PCA\n",
    "import seaborn as sns\n",
    "from sklearn.preprocessing import StandardScaler\n",
    "import matplotlib\n",
    "#from lifelines import CoxPHFitter\n",
    "from muon import MuData\n",
    "import anndata as ad\n",
    "\n",
    "rna = pd.read_csv(\"data/cll_data/rna_data.csv\", index_col=0)\n",
    "meth = pd.read_csv(\"data/cll_data/meth_data.csv\", index_col=0)\n",
    "drug = pd.read_csv(\"data/cll_data/drug_data.csv\", index_col=0)\n",
    "mutation = pd.read_csv(\"data/cll_data/mutation_data.csv\", index_col=0)\n",
    "cllpd =  pd.read_csv(\"data/cll_data/cllpd.csv\", index_col=0)\n",
    "survival = pd.read_csv(\"data/cll_data/survival_data.csv\", index_col=0)\n",
    "demographic = pd.read_csv(\"data/cll_data/demographic_data.csv\", index_col=0)\n",
    "doubling_time = pd.read_csv(\"data/cll_data/doublingTime_data.csv\", index_col=0)\n",
    "\n",
    "\n",
    "inter = np.intersect1d(np.intersect1d(np.intersect1d(rna.index, meth.index),drug.index),demographic.index)\n",
    "\n",
    "scaler = StandardScaler()\n",
    "rna = pd.DataFrame(scaler.fit_transform(rna), columns = rna.columns, index = rna.index)\n",
    "meth = pd.DataFrame(scaler.fit_transform(meth), columns = meth.columns, index = meth.index)\n",
    "drug = pd.DataFrame(scaler.fit_transform(drug), columns = drug.columns, index = drug.index)\n",
    "\n",
    "llh = [\"gaussian\", \"gaussian\", \"gaussian\"]\n",
    "views = [\"mrna\", \"methylation\", \"drug\"]"
   ]
  },
  {
   "cell_type": "code",
   "execution_count": 3,
   "id": "ba5c41fa-202f-4b55-bb13-4d1ef736779a",
   "metadata": {
    "tags": []
   },
   "outputs": [
    {
     "data": {
      "text/plain": [
       "217"
      ]
     },
     "execution_count": 3,
     "metadata": {},
     "output_type": "execute_result"
    }
   ],
   "source": [
    "# get all observation ids that are in all datasets\n",
    "all_obs = np.unique(np.concatenate((rna.index, meth.index, drug.index)))[np.unique(np.concatenate((rna.index, meth.index, drug.index)), return_counts=True)[1] >=2]\n",
    "len(all_obs)"
   ]
  },
  {
   "cell_type": "code",
   "execution_count": 6,
   "id": "606cd5be-b448-4634-978e-c2be23dce33a",
   "metadata": {
    "tags": []
   },
   "outputs": [],
   "source": [
    "# align observations in all datasets and introduces nan for missing values\n",
    "def align_df(df, idx):\n",
    "    out = pd.DataFrame(np.nan, columns = df.columns, index=idx)\n",
    "    idx = np.intersect1d(idx,df.index.tolist())\n",
    "    df = df.loc[idx]\n",
    "    out.loc[df.index,:] = df\n",
    "    return out\n",
    "\n",
    "rna = align_df(rna, all_obs)\n",
    "drug = align_df(drug, all_obs)\n",
    "meth = align_df(meth, all_obs)\n",
    "survival = align_df(survival, all_obs)\n",
    "mutation = align_df(mutation, all_obs)\n",
    "demographic = align_df(demographic, all_obs)\n",
    "doubling_time = align_df(doubling_time, all_obs)\n",
    "\n",
    "# each view stored in data list\n",
    "data = [rna, meth, drug]\n",
    "# likelihood for each view\n",
    "llh = [\"gaussian\", \"gaussian\", \"gaussian\"]"
   ]
  },
  {
   "cell_type": "code",
   "execution_count": 7,
   "id": "4c150ddc-e897-4304-8e8c-ce5844a544f9",
   "metadata": {
    "tags": []
   },
   "outputs": [
    {
     "name": "stderr",
     "output_type": "stream",
     "text": [
      "/home/tuemay/anaconda3/envs/spyder-env/lib/python3.10/site-packages/spfa/utils/utils.py:62: FutureWarning: X.dtype being converted to np.float32 from float64. In the next version of anndata (0.9) conversion will not be automatic. Pass dtype explicitly to avoid this warning. Pass `AnnData(X, dtype=X.dtype, ...)` to get the future behavour.\n",
      "  adata = AnnData(encoded_data)\n"
     ]
    },
    {
     "data": {
      "text/html": [
       "<pre>MuData object with n_obs × n_vars = 217 × 10315\n",
       "  3 modalities\n",
       "    mrna:\t217 x 5000\n",
       "      uns:\t&#x27;llh&#x27;\n",
       "      obsm:\t&#x27;mask&#x27;\n",
       "    methylation:\t217 x 5000\n",
       "      uns:\t&#x27;llh&#x27;\n",
       "      obsm:\t&#x27;mask&#x27;\n",
       "    drug:\t217 x 315\n",
       "      uns:\t&#x27;llh&#x27;\n",
       "      obsm:\t&#x27;mask&#x27;</pre>"
      ],
      "text/plain": [
       "MuData object with n_obs × n_vars = 217 × 10315\n",
       "  3 modalities\n",
       "    mrna:\t217 x 5000\n",
       "      uns:\t'llh'\n",
       "      obsm:\t'mask'\n",
       "    methylation:\t217 x 5000\n",
       "      uns:\t'llh'\n",
       "      obsm:\t'mask'\n",
       "    drug:\t217 x 315\n",
       "      uns:\t'llh'\n",
       "      obsm:\t'mask'"
      ]
     },
     "execution_count": 7,
     "metadata": {},
     "output_type": "execute_result"
    }
   ],
   "source": [
    "# generate input mudata object of omics views\n",
    "adata = [spfa.tl.get_ad(data[i], llh[i]) for i in range(len(data))]\n",
    "Xmdata = MuData({views[i]:adata[i] for i in range(len(adata))})\n",
    "Xmdata"
   ]
  },
  {
   "cell_type": "code",
   "execution_count": 26,
   "id": "6fc9a7aa-ce79-46ec-9eb4-c6b7c1c84c1a",
   "metadata": {
    "tags": []
   },
   "outputs": [
    {
     "name": "stderr",
     "output_type": "stream",
     "text": [
      "/home/tuemay/anaconda3/envs/spyder-env/lib/python3.10/site-packages/spfa/utils/utils.py:59: FutureWarning: X.dtype being converted to np.float32 from float64. In the next version of anndata (0.9) conversion will not be automatic. Pass dtype explicitly to avoid this warning. Pass `AnnData(X, dtype=X.dtype, ...)` to get the future behavour.\n",
      "  adata = AnnData(encoded_data.reshape(-1,1))\n",
      "/home/tuemay/anaconda3/envs/spyder-env/lib/python3.10/site-packages/spfa/utils/utils.py:53: FutureWarning: X.dtype being converted to np.float32 from int64. In the next version of anndata (0.9) conversion will not be automatic. Pass dtype explicitly to avoid this warning. Pass `AnnData(X, dtype=X.dtype, ...)` to get the future behavour.\n",
      "  adata = AnnData(encoded_data)\n",
      "/home/tuemay/anaconda3/envs/spyder-env/lib/python3.10/site-packages/spfa/utils/utils.py:59: FutureWarning: X.dtype being converted to np.float32 from int64. In the next version of anndata (0.9) conversion will not be automatic. Pass dtype explicitly to avoid this warning. Pass `AnnData(X, dtype=X.dtype, ...)` to get the future behavour.\n",
      "  adata = AnnData(encoded_data.reshape(-1,1))\n",
      "/home/tuemay/anaconda3/envs/spyder-env/lib/python3.10/site-packages/spfa/utils/utils.py:53: FutureWarning: X.dtype being converted to np.float32 from int64. In the next version of anndata (0.9) conversion will not be automatic. Pass dtype explicitly to avoid this warning. Pass `AnnData(X, dtype=X.dtype, ...)` to get the future behavour.\n",
      "  adata = AnnData(encoded_data)\n",
      "/home/tuemay/anaconda3/envs/spyder-env/lib/python3.10/site-packages/spfa/utils/utils.py:59: FutureWarning: X.dtype being converted to np.float32 from int64. In the next version of anndata (0.9) conversion will not be automatic. Pass dtype explicitly to avoid this warning. Pass `AnnData(X, dtype=X.dtype, ...)` to get the future behavour.\n",
      "  adata = AnnData(encoded_data.reshape(-1,1))\n",
      "/home/tuemay/anaconda3/envs/spyder-env/lib/python3.10/site-packages/spfa/utils/utils.py:53: FutureWarning: X.dtype being converted to np.float32 from int64. In the next version of anndata (0.9) conversion will not be automatic. Pass dtype explicitly to avoid this warning. Pass `AnnData(X, dtype=X.dtype, ...)` to get the future behavour.\n",
      "  adata = AnnData(encoded_data)\n",
      "/home/tuemay/anaconda3/envs/spyder-env/lib/python3.10/site-packages/spfa/utils/utils.py:59: FutureWarning: X.dtype being converted to np.float32 from int64. In the next version of anndata (0.9) conversion will not be automatic. Pass dtype explicitly to avoid this warning. Pass `AnnData(X, dtype=X.dtype, ...)` to get the future behavour.\n",
      "  adata = AnnData(encoded_data.reshape(-1,1))\n"
     ]
    },
    {
     "data": {
      "text/html": [
       "<pre>MuData object with n_obs × n_vars = 217 × 4\n",
       "  4 modalities\n",
       "    trisomy12:\t217 x 1\n",
       "      uns:\t&#x27;llh&#x27;, &#x27;label_map&#x27;\n",
       "      obsm:\t&#x27;mask&#x27;\n",
       "    IGHV:\t217 x 1\n",
       "      uns:\t&#x27;llh&#x27;, &#x27;label_map&#x27;\n",
       "      obsm:\t&#x27;mask&#x27;\n",
       "    Age:\t217 x 1\n",
       "      uns:\t&#x27;llh&#x27;\n",
       "      obsm:\t&#x27;mask&#x27;\n",
       "    Sex:\t217 x 1\n",
       "      uns:\t&#x27;llh&#x27;, &#x27;label_map&#x27;\n",
       "      obsm:\t&#x27;mask&#x27;</pre>"
      ],
      "text/plain": [
       "MuData object with n_obs × n_vars = 217 × 4\n",
       "  4 modalities\n",
       "    trisomy12:\t217 x 1\n",
       "      uns:\t'llh', 'label_map'\n",
       "      obsm:\t'mask'\n",
       "    IGHV:\t217 x 1\n",
       "      uns:\t'llh', 'label_map'\n",
       "      obsm:\t'mask'\n",
       "    Age:\t217 x 1\n",
       "      uns:\t'llh'\n",
       "      obsm:\t'mask'\n",
       "    Sex:\t217 x 1\n",
       "      uns:\t'llh', 'label_map'\n",
       "      obsm:\t'mask'"
      ]
     },
     "execution_count": 26,
     "metadata": {},
     "output_type": "execute_result"
    }
   ],
   "source": [
    "# generate input mudata object of target covariates\n",
    "age_ad = spfa.tl.get_ad(demographic[[\"age\"]], llh = \"gaussian\")\n",
    "sex_ad = spfa.tl.get_ad(demographic[[\"sex\"]], llh = \"bernoulli\")\n",
    "trisomy_ad = spfa.tl.get_ad(mutation[[\"trisomy12\"]], llh = \"bernoulli\")\n",
    "ighv_ad = spfa.tl.get_ad(mutation[[\"IGHV\"]], llh = \"bernoulli\")\n",
    "\n",
    "Ymdata = MuData({\"trisomy12\":trisomy_ad, \"IGHV\": ighv_ad, \"Age\": age_ad, \"Sex\": sex_ad})\n",
    "Ymdata"
   ]
  },
  {
   "cell_type": "code",
   "execution_count": 13,
   "id": "2d57928b",
   "metadata": {},
   "outputs": [],
   "source": [
    "# collect sample metadata\n",
    "metadata = np.hstack([trisomy_ad.X,ighv_ad.X, age_ad.X, sex_ad.X])\n",
    "metadata = pd.DataFrame(metadata, columns=[\"trisomy12\", \"IGHV\", \"Age\", \"Sex\"])"
   ]
  },
  {
   "cell_type": "code",
   "execution_count": 14,
   "id": "f905c482-b2c8-4bd7-9830-1c5b6a66fba3",
   "metadata": {
    "tags": []
   },
   "outputs": [
    {
     "data": {
      "text/plain": [
       "tensor([[1., 0., 0., 0., 0., 0., 0.],\n",
       "        [0., 1., 0., 0., 0., 0., 0.],\n",
       "        [0., 0., 1., 0., 0., 0., 0.],\n",
       "        [0., 0., 0., 1., 0., 0., 0.]])"
      ]
     },
     "execution_count": 14,
     "metadata": {},
     "output_type": "execute_result"
    }
   ],
   "source": [
    "# generate design matrix with n_covariates x n_factors\n",
    "n_factors = 7\n",
    "design = torch.zeros((len(Ymdata.mod), n_factors))\n",
    "design[0,0] = 1\n",
    "design[1,1] = 1\n",
    "design[2,2]=1\n",
    "design[3,3]=1\n",
    "\n",
    "design\n"
   ]
  },
  {
   "cell_type": "markdown",
   "id": "3adb23df",
   "metadata": {},
   "source": [
    "The design matrix specifies which factor should be guided by which covariates. In our case the first 4 factors are guided the 4 entries in Ymdata (IGHV, trisomy12, Age, Sex)."
   ]
  },
  {
   "cell_type": "code",
   "execution_count": 27,
   "id": "94f4dedc-df48-4759-872f-a7426af83f8c",
   "metadata": {
    "tags": []
   },
   "outputs": [],
   "source": [
    "model = spfa.spFA(Xmdata=Xmdata,\n",
    "            Ymdata = Ymdata,\n",
    "            num_factors=7,\n",
    "            design = design,\n",
    "            device=torch.device('cpu'),\n",
    "            ard = False,\n",
    "            horseshoe = True,\n",
    "            metadata= metadata,\n",
    "            subsample=0,\n",
    "            target_scale=[500 for  i in range(len(Ymdata.mod))])\n"
   ]
  },
  {
   "cell_type": "markdown",
   "id": "09edd4e7",
   "metadata": {},
   "source": [
    "This sets up the model, key parameters are:\n",
    "* Xmdata: contains the omics modalities as MuData object\n",
    "* Ymdata: contains the target covariates as MuData object\n",
    "* num_factors: number of factors to fit\n",
    "* device: device to use for fitting. We highly recommend to run spfa with a cuda device (torch.device(\"cuda\"))\n",
    "* ard: whether to use sparse automatic relevance determination priors on weights\n",
    "* horseshoe: whether to use sparse horseshoe priors on weights\n",
    "* subsample: whether to subsample the data during fitting. Recommended for very large data sets like single cell data sets.\n",
    "* target_scale: crucial hyperparameter to scale how strong factors are guided by target covariates. Too high scaling parameters can lead to overfitting (Factors don't explain variance of Xmdata, but perfectly predict Ymdata). Too low values can lead to the model ignoring the covariate guidance.\n"
   ]
  },
  {
   "cell_type": "code",
   "execution_count": 28,
   "id": "660393d3-b407-48d2-b99d-155f409d3dfb",
   "metadata": {
    "tags": []
   },
   "outputs": [
    {
     "name": "stderr",
     "output_type": "stream",
     "text": [
      "Current Elbo 2.98E+06 | Delta: 8776: 100%|██████████| 3500/3500 [09:10<00:00,  6.36it/s]    \n"
     ]
    },
    {
     "data": {
      "text/plain": [
       "[<matplotlib.lines.Line2D at 0x7f68331e7760>]"
      ]
     },
     "execution_count": 28,
     "metadata": {},
     "output_type": "execute_result"
    },
    {
     "data": {
      "image/png": "[encoded data removed]",
      "text/plain": [
       "<Figure size 432x288 with 1 Axes>"
      ]
     },
     "metadata": {
      "needs_background": "light"
     },
     "output_type": "display_data"
    }
   ],
   "source": [
    "# fit and plot loss\n",
    "model.fit(n_steps=3500, lr=0.01)\n",
    "plt.semilogy(model.history)\n"
   ]
  },
  {
   "cell_type": "code",
   "execution_count": 29,
   "id": "49538177",
   "metadata": {},
   "outputs": [
    {
     "data": {
      "text/plain": [
       "<AxesSubplot:xlabel='Loadings', ylabel='Features'>"
      ]
     },
     "execution_count": 29,
     "metadata": {},
     "output_type": "execute_result"
    },
    {
     "data": {
      "image/png": "[encoded data removed]",
      "text/plain": [
       "<Figure size 432x288 with 2 Axes>"
      ]
     },
     "metadata": {
      "needs_background": "light"
     },
     "output_type": "display_data"
    },
    {
     "data": {
      "image/png": "[encoded data removed]",
      "text/plain": [
       "<Figure size 432x288 with 2 Axes>"
      ]
     },
     "metadata": {
      "needs_background": "light"
     },
     "output_type": "display_data"
    },
    {
     "data": {
      "image/png": "[encoded data removed]",
      "text/plain": [
       "<Figure size 432x288 with 1 Axes>"
      ]
     },
     "metadata": {
      "needs_background": "light"
     },
     "output_type": "display_data"
    }
   ],
   "source": [
    "# plot fraction of variance explained of each view by each factor\n",
    "spfa.pl.plot_variance_explained(model)\n",
    "\n",
    "# plot factor covariate correlations\n",
    "spfa.pl.plot_factor_covariate_cor(model, metavar=[\"trisomy12\", \"IGHV\", \"Age\", \"Sex\"])\n",
    "\n",
    "# plot top weights of factor 1 in view 1\n",
    "spfa.pl.plot_top_weights(model, view=0, factor=0)"
   ]
  },
  {
   "cell_type": "code",
   "execution_count": 30,
   "id": "01eee2a1",
   "metadata": {},
   "outputs": [],
   "source": [
    "# to access weights and factors directly use attributes Z and W:\n",
    "Z = model.Z\n",
    "W = model.W\n"
   ]
  }
 ],
 "metadata": {
  "kernelspec": {
   "display_name": "spFA",
   "language": "python",
   "name": "python3"
  },
  "language_info": {
   "codemirror_mode": {
    "name": "ipython",
    "version": 3
   },
   "file_extension": ".py",
   "mimetype": "text/x-python",
   "name": "python",
   "nbconvert_exporter": "python",
   "pygments_lexer": "ipython3",
   "version": "3.10.5"
  }
 },
 "nbformat": 4,
 "nbformat_minor": 5
}
